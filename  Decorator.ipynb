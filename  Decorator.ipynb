{
 "cells": [
  {
   "cell_type": "code",
   "execution_count": 22,
   "id": "414b1dea",
   "metadata": {},
   "outputs": [],
   "source": [
    "def param_func():\n",
    "    print('引数関数の中')"
   ]
  },
  {
   "cell_type": "code",
   "execution_count": 23,
   "id": "4ddf7be9",
   "metadata": {},
   "outputs": [],
   "source": [
    "def body_func(param_func):\n",
    "\tparam_func()"
   ]
  },
  {
   "cell_type": "code",
   "execution_count": 24,
   "id": "793e2b62",
   "metadata": {},
   "outputs": [
    {
     "name": "stdout",
     "output_type": "stream",
     "text": [
      "引数関数の中\n"
     ]
    }
   ],
   "source": [
    "body_func(param_func)"
   ]
  },
  {
   "cell_type": "code",
   "execution_count": 35,
   "id": "ff89426e",
   "metadata": {},
   "outputs": [],
   "source": [
    "def body_func():\n",
    "    def return_func():\n",
    "        print('戻り値関数の中')\n",
    "    return return_func"
   ]
  },
  {
   "cell_type": "code",
   "execution_count": 36,
   "id": "b3a2bcc5",
   "metadata": {},
   "outputs": [],
   "source": [
    "return_func = body_func()"
   ]
  },
  {
   "cell_type": "code",
   "execution_count": 37,
   "id": "1db2592b",
   "metadata": {},
   "outputs": [
    {
     "name": "stdout",
     "output_type": "stream",
     "text": [
      "戻り値関数の中\n"
     ]
    }
   ],
   "source": [
    "return_func()"
   ]
  },
  {
   "cell_type": "code",
   "execution_count": 38,
   "id": "e7e79dbe",
   "metadata": {},
   "outputs": [],
   "source": [
    "def body_func(param_func):\n",
    "    def return_func():\n",
    "        param_func()\n",
    "    return return_func"
   ]
  },
  {
   "cell_type": "code",
   "execution_count": 40,
   "id": "3246e94c",
   "metadata": {},
   "outputs": [],
   "source": [
    "return_func = body_func(param_func)"
   ]
  },
  {
   "cell_type": "code",
   "execution_count": 41,
   "id": "7e68a3fb",
   "metadata": {},
   "outputs": [
    {
     "name": "stdout",
     "output_type": "stream",
     "text": [
      "引数関数の中\n"
     ]
    }
   ],
   "source": [
    "return_func() "
   ]
  },
  {
   "cell_type": "code",
   "execution_count": 68,
   "id": "c0a9d033",
   "metadata": {},
   "outputs": [],
   "source": [
    "def body_func(param_func):\n",
    "    def return_func():\n",
    "        param_func()\n",
    "        print('引数関数実行後に文字列を出力')\n",
    "    return return_func"
   ]
  },
  {
   "cell_type": "code",
   "execution_count": null,
   "id": "01ce3268",
   "metadata": {},
   "outputs": [],
   "source": [
    "return_func = body_func(param_func)"
   ]
  },
  {
   "cell_type": "code",
   "execution_count": 69,
   "id": "da4c5e80",
   "metadata": {},
   "outputs": [
    {
     "name": "stdout",
     "output_type": "stream",
     "text": [
      "引数関数の中\n",
      "引数関数実行後に文字列を出力\n"
     ]
    }
   ],
   "source": [
    "return_func()"
   ]
  },
  {
   "cell_type": "code",
   "execution_count": 70,
   "id": "4e7188df",
   "metadata": {},
   "outputs": [
    {
     "name": "stdout",
     "output_type": "stream",
     "text": [
      "これはテスト関数です\n",
      "引数関数実行後に文字列を出力\n"
     ]
    }
   ],
   "source": [
    "@body_func\n",
    "def test_func():\n",
    "    print('これはテスト関数です')\n",
    "test_func()"
   ]
  },
  {
   "cell_type": "code",
   "execution_count": 73,
   "id": "a440e877",
   "metadata": {},
   "outputs": [],
   "source": [
    "def deco_p(func):\n",
    "    def body_func(param_func):\n",
    "        def return_func():\n",
    "            param_func()\n",
    "            print('引数関数実行後に文字列を出力')\n",
    "        return return_func\n",
    "    return body_func"
   ]
  },
  {
   "cell_type": "code",
   "execution_count": 74,
   "id": "2678ca6c",
   "metadata": {},
   "outputs": [],
   "source": [
    "@deco_p\n",
    "def test(str):\n",
    "    return str"
   ]
  },
  {
   "cell_type": "code",
   "execution_count": 76,
   "id": "1a9633ae",
   "metadata": {},
   "outputs": [
    {
     "data": {
      "text/plain": [
       "<function __main__.deco_p.<locals>.body_func.<locals>.return_func()>"
      ]
     },
     "execution_count": 76,
     "metadata": {},
     "output_type": "execute_result"
    }
   ],
   "source": [
    "test('aaaaaaaaaaa')"
   ]
  },
  {
   "cell_type": "code",
   "execution_count": null,
   "id": "3ce8603f",
   "metadata": {},
   "outputs": [],
   "source": [
    "aaaa"
   ]
  }
 ],
 "metadata": {
  "kernelspec": {
   "display_name": "Python 3 (ipykernel)",
   "language": "python",
   "name": "python3"
  },
  "language_info": {
   "codemirror_mode": {
    "name": "ipython",
    "version": 3
   },
   "file_extension": ".py",
   "mimetype": "text/x-python",
   "name": "python",
   "nbconvert_exporter": "python",
   "pygments_lexer": "ipython3",
   "version": "3.8.10"
  }
 },
 "nbformat": 4,
 "nbformat_minor": 5
}

{
 "cells": [
  {
   "cell_type": "code",
   "execution_count": 15,
   "id": "22f9bd5a",
   "metadata": {},
   "outputs": [],
   "source": [
    "from sqlalchemy import create_engine"
   ]
  },
  {
   "cell_type": "code",
   "execution_count": 16,
   "id": "5a6b2cb2",
   "metadata": {},
   "outputs": [],
   "source": [
    "from sqlalchemy.orm import Session"
   ]
  },
  {
   "cell_type": "code",
   "execution_count": 17,
   "id": "5f1c15e1",
   "metadata": {},
   "outputs": [],
   "source": [
    "from test_model import Human"
   ]
  },
  {
   "cell_type": "code",
   "execution_count": 18,
   "id": "7707b712",
   "metadata": {},
   "outputs": [],
   "source": [
    "from test_model import Person"
   ]
  },
  {
   "cell_type": "code",
   "execution_count": 19,
   "id": "c7cbe741",
   "metadata": {},
   "outputs": [],
   "source": [
    "engine = create_engine('sqlite:///test_db', echo=True)"
   ]
  },
  {
   "cell_type": "code",
   "execution_count": 21,
   "id": "e532f077",
   "metadata": {},
   "outputs": [],
   "source": [
    "session = Session(engine)"
   ]
  },
  {
   "cell_type": "code",
   "execution_count": 22,
   "id": "03d4e013",
   "metadata": {},
   "outputs": [
    {
     "name": "stdout",
     "output_type": "stream",
     "text": [
      "2022-06-25 17:42:49,518 INFO sqlalchemy.engine.Engine BEGIN (implicit)\n",
      "2022-06-25 17:42:49,521 INFO sqlalchemy.engine.Engine SELECT human.id AS human_id, human.name AS human_name, human.height AS human_height, human.weight AS human_weight \n",
      "FROM human\n",
      "2022-06-25 17:42:49,522 INFO sqlalchemy.engine.Engine [generated in 0.00125s] ()\n"
     ]
    }
   ],
   "source": [
    "humans = session.query(Human).all()"
   ]
  },
  {
   "cell_type": "code",
   "execution_count": 23,
   "id": "a4966d33",
   "metadata": {},
   "outputs": [
    {
     "name": "stdout",
     "output_type": "stream",
     "text": [
      "id:1 name:スザク height:176.5 weight:60.4\n",
      "id:2 name:ルルーシュ height:178.5 weight:65.4\n",
      "id:3 name:CC height:150.5 weight:35.4\n",
      "id:11 name:a height:11.11 weight:11.11\n",
      "id:12 name:b height:12.12 weight:12.12\n",
      "id:13 name:c height:13.13 weight:13.13\n"
     ]
    }
   ],
   "source": [
    "for human in humans:\n",
    "    print(f'id:{human.id} name:{human.name} height:{human.height} weight:{human.weight}')"
   ]
  },
  {
   "cell_type": "code",
   "execution_count": 24,
   "id": "fab70b58",
   "metadata": {},
   "outputs": [
    {
     "name": "stdout",
     "output_type": "stream",
     "text": [
      "2022-06-25 17:44:08,702 INFO sqlalchemy.engine.Engine SELECT person.id AS person_id, person.name AS person_name, person.size AS person_size \n",
      "FROM person\n",
      "2022-06-25 17:44:08,704 INFO sqlalchemy.engine.Engine [generated in 0.00161s] ()\n"
     ]
    }
   ],
   "source": [
    "persons = session.query(Person).all()"
   ]
  },
  {
   "cell_type": "code",
   "execution_count": 25,
   "id": "11e73da3",
   "metadata": {},
   "outputs": [
    {
     "name": "stdout",
     "output_type": "stream",
     "text": [
      "id:1 name:name_a size:10.5\n",
      "id:3 name:c_update size:3.14\n",
      "id:4 name:from_model size:2.236\n",
      "id:11 name:a size:10.5\n",
      "id:12 name:b size:None\n",
      "id:13 name:c size:3.14\n"
     ]
    }
   ],
   "source": [
    "for person in persons:\n",
    "    print(f'id:{person.id} name:{person.name} size:{person.size}')"
   ]
  },
  {
   "cell_type": "code",
   "execution_count": 8,
   "id": "38af2f81",
   "metadata": {},
   "outputs": [],
   "source": [
    "import sqlite3"
   ]
  },
  {
   "cell_type": "code",
   "execution_count": null,
   "id": "ce106a35",
   "metadata": {},
   "outputs": [],
   "source": []
  },
  {
   "cell_type": "code",
   "execution_count": 9,
   "id": "d3e7ac2e",
   "metadata": {},
   "outputs": [],
   "source": [
    "con = sqlite3.connect('./test_db')"
   ]
  },
  {
   "cell_type": "code",
   "execution_count": 10,
   "id": "663ed03b",
   "metadata": {},
   "outputs": [],
   "source": [
    "cur = con.cursor()"
   ]
  },
  {
   "cell_type": "code",
   "execution_count": 11,
   "id": "a9aa5c40",
   "metadata": {},
   "outputs": [
    {
     "name": "stdout",
     "output_type": "stream",
     "text": [
      "(1, 'name_a', 10.5)\n",
      "(3, 'c_update', 3.14)\n",
      "(4, 'from_model', 2.236)\n",
      "(11, 'a', 10.5)\n",
      "(12, 'b', None)\n",
      "(13, 'c', 3.14)\n"
     ]
    }
   ],
   "source": [
    "for row in cur.execute('SELECT * FROM person'):\n",
    "    print(row)"
   ]
  },
  {
   "cell_type": "code",
   "execution_count": 12,
   "id": "3ffbffcf",
   "metadata": {},
   "outputs": [
    {
     "name": "stdout",
     "output_type": "stream",
     "text": [
      "(1, 'スザク', 176.5, 60.4)\n",
      "(2, 'ルルーシュ', 178.5, 65.4)\n",
      "(3, 'CC', 150.5, 35.4)\n",
      "(11, 'a', 11.11, 11.11)\n",
      "(12, 'b', 12.12, 12.12)\n",
      "(13, 'c', 13.13, 13.13)\n"
     ]
    }
   ],
   "source": [
    "for row in cur.execute('SELECT * FROM human'):\n",
    "    print(row)"
   ]
  },
  {
   "cell_type": "code",
   "execution_count": null,
   "id": "3565b033",
   "metadata": {},
   "outputs": [],
   "source": []
  }
 ],
 "metadata": {
  "kernelspec": {
   "display_name": "Python 3 (ipykernel)",
   "language": "python",
   "name": "python3"
  },
  "language_info": {
   "codemirror_mode": {
    "name": "ipython",
    "version": 3
   },
   "file_extension": ".py",
   "mimetype": "text/x-python",
   "name": "python",
   "nbconvert_exporter": "python",
   "pygments_lexer": "ipython3",
   "version": "3.8.10"
  }
 },
 "nbformat": 4,
 "nbformat_minor": 5
}

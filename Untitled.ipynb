{
 "cells": [
  {
   "cell_type": "code",
   "execution_count": 22,
   "id": "414b1dea",
   "metadata": {},
   "outputs": [],
   "source": [
    "def param_func():\n",
    "    print('引数関数の中')"
   ]
  },
  {
   "cell_type": "code",
   "execution_count": 23,
   "id": "4ddf7be9",
   "metadata": {},
   "outputs": [],
   "source": [
    "def body_func(param_func):\n",
    "\tparam_func()"
   ]
  },
  {
   "cell_type": "code",
   "execution_count": 24,
   "id": "793e2b62",
   "metadata": {},
   "outputs": [
    {
     "name": "stdout",
     "output_type": "stream",
     "text": [
      "引数関数の中\n"
     ]
    }
   ],
   "source": [
    "body_func(param_func)"
   ]
  },
  {
   "cell_type": "code",
   "execution_count": 29,
   "id": "ff89426e",
   "metadata": {},
   "outputs": [],
   "source": [
    "def body_func():\n",
    "    def return_func():\n",
    "        print('戻り値関数の中')\n",
    "    return return_func"
   ]
  },
  {
   "cell_type": "code",
   "execution_count": 33,
   "id": "b3a2bcc5",
   "metadata": {},
   "outputs": [
    {
     "ename": "TypeError",
     "evalue": "body_func() takes 0 positional arguments but 1 was given",
     "output_type": "error",
     "traceback": [
      "\u001b[0;31m---------------------------------------------------------------------------\u001b[0m",
      "\u001b[0;31mTypeError\u001b[0m                                 Traceback (most recent call last)",
      "Input \u001b[0;32mIn [33]\u001b[0m, in \u001b[0;36m<cell line: 1>\u001b[0;34m()\u001b[0m\n\u001b[0;32m----> 1\u001b[0m return_func \u001b[38;5;241m=\u001b[39m \u001b[43mbody_func\u001b[49m\u001b[43m(\u001b[49m\u001b[43mparam_func\u001b[49m\u001b[43m)\u001b[49m\n",
      "\u001b[0;31mTypeError\u001b[0m: body_func() takes 0 positional arguments but 1 was given"
     ]
    }
   ],
   "source": [
    "return_func = body_func(param_func)"
   ]
  },
  {
   "cell_type": "code",
   "execution_count": 34,
   "id": "1db2592b",
   "metadata": {},
   "outputs": [
    {
     "ename": "NameError",
     "evalue": "name 'return_func' is not defined",
     "output_type": "error",
     "traceback": [
      "\u001b[0;31m---------------------------------------------------------------------------\u001b[0m",
      "\u001b[0;31mNameError\u001b[0m                                 Traceback (most recent call last)",
      "Input \u001b[0;32mIn [34]\u001b[0m, in \u001b[0;36m<cell line: 1>\u001b[0;34m()\u001b[0m\n\u001b[0;32m----> 1\u001b[0m \u001b[43mreturn_func\u001b[49m()\n",
      "\u001b[0;31mNameError\u001b[0m: name 'return_func' is not defined"
     ]
    }
   ],
   "source": [
    "return_func()"
   ]
  },
  {
   "cell_type": "code",
   "execution_count": null,
   "id": "e7e79dbe",
   "metadata": {},
   "outputs": [],
   "source": []
  }
 ],
 "metadata": {
  "kernelspec": {
   "display_name": "Python 3 (ipykernel)",
   "language": "python",
   "name": "python3"
  },
  "language_info": {
   "codemirror_mode": {
    "name": "ipython",
    "version": 3
   },
   "file_extension": ".py",
   "mimetype": "text/x-python",
   "name": "python",
   "nbconvert_exporter": "python",
   "pygments_lexer": "ipython3",
   "version": "3.8.10"
  }
 },
 "nbformat": 4,
 "nbformat_minor": 5
}

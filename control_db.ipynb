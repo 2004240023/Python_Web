{
 "cells": [
  {
   "cell_type": "code",
   "execution_count": 19,
   "id": "5635682e",
   "metadata": {},
   "outputs": [],
   "source": [
    "import sqlite3"
   ]
  },
  {
   "cell_type": "code",
   "execution_count": 20,
   "id": "db60fe2a",
   "metadata": {},
   "outputs": [],
   "source": [
    "con = sqlite3.connect('./test_db')"
   ]
  },
  {
   "cell_type": "code",
   "execution_count": 21,
   "id": "c876dbd6",
   "metadata": {},
   "outputs": [],
   "source": [
    "cur = con.cursor()"
   ]
  },
  {
   "cell_type": "code",
   "execution_count": 22,
   "id": "5b5c477a",
   "metadata": {},
   "outputs": [
    {
     "name": "stdout",
     "output_type": "stream",
     "text": [
      "(1, 'name_a', 10.5)\n",
      "1\n",
      "1\n",
      "name_a\n",
      "10.5\n",
      "name_a\n",
      "1\n",
      "name_a\n",
      "10.5\n",
      "10.5\n",
      "1\n",
      "name_a\n",
      "10.5\n",
      "(3, 'c_update', 3.14)\n",
      "3\n",
      "3\n",
      "c_update\n",
      "3.14\n",
      "c_update\n",
      "3\n",
      "c_update\n",
      "3.14\n",
      "3.14\n",
      "3\n",
      "c_update\n",
      "3.14\n"
     ]
    }
   ],
   "source": [
    "for row in cur.execute('SELECT * FROM person'):\n",
    "    print(row)\n",
    "    for column in row:\n",
    "        print(column)\n",
    "        for column in row:\n",
    "            print(column)"
   ]
  },
  {
   "cell_type": "code",
   "execution_count": 23,
   "id": "05e56425",
   "metadata": {},
   "outputs": [],
   "source": [
    "insert_sql = 'INSERT INTO person VALUES(?,?,?)'"
   ]
  },
  {
   "cell_type": "code",
   "execution_count": 24,
   "id": "994429ac",
   "metadata": {},
   "outputs": [],
   "source": [
    "insert_param = (100,'name_z',99.9)"
   ]
  },
  {
   "cell_type": "code",
   "execution_count": 25,
   "id": "314bd550",
   "metadata": {},
   "outputs": [
    {
     "data": {
      "text/plain": [
       "<sqlite3.Cursor at 0x7f20e994dc70>"
      ]
     },
     "execution_count": 25,
     "metadata": {},
     "output_type": "execute_result"
    }
   ],
   "source": [
    "cur.execute(insert_sql,insert_param)"
   ]
  },
  {
   "cell_type": "code",
   "execution_count": 26,
   "id": "f799cbf6",
   "metadata": {},
   "outputs": [
    {
     "data": {
      "text/plain": [
       "<function Connection.commit>"
      ]
     },
     "execution_count": 26,
     "metadata": {},
     "output_type": "execute_result"
    }
   ],
   "source": [
    "con.commit"
   ]
  },
  {
   "cell_type": "code",
   "execution_count": 27,
   "id": "57bbbb13",
   "metadata": {},
   "outputs": [
    {
     "data": {
      "text/plain": [
       "<sqlite3.Cursor at 0x7f20e994dc70>"
      ]
     },
     "execution_count": 27,
     "metadata": {},
     "output_type": "execute_result"
    }
   ],
   "source": [
    "cur.execute('SELECT * FROM person WHERE size > :size',{'size':10})"
   ]
  },
  {
   "cell_type": "code",
   "execution_count": 28,
   "id": "656670a6",
   "metadata": {},
   "outputs": [
    {
     "name": "stdout",
     "output_type": "stream",
     "text": [
      "[(1, 'name_a', 10.5), (100, 'name_z', 99.9)]\n"
     ]
    }
   ],
   "source": [
    "print(cur.fetchall())"
   ]
  },
  {
   "cell_type": "code",
   "execution_count": 31,
   "id": "2ba09801",
   "metadata": {},
   "outputs": [
    {
     "data": {
      "text/plain": [
       "<sqlite3.Cursor at 0x7f20e994dc70>"
      ]
     },
     "execution_count": 31,
     "metadata": {},
     "output_type": "execute_result"
    }
   ],
   "source": [
    "update_sql = 'UPDATE person SET name = ? WHERE id = ?'\n",
    "update_param = ('changed_name',1)\n",
    "cur.execute(update_sql,update_param)"
   ]
  },
  {
   "cell_type": "code",
   "execution_count": 33,
   "id": "be1c37ee",
   "metadata": {},
   "outputs": [
    {
     "name": "stdout",
     "output_type": "stream",
     "text": [
      "(1, 'changed_name', 10.5)\n",
      "(3, 'c_update', 3.14)\n",
      "(100, 'name_z', 99.9)\n"
     ]
    }
   ],
   "source": [
    "for row in cur.execute('SELECT * FROM person'):\n",
    "    print(row)"
   ]
  },
  {
   "cell_type": "code",
   "execution_count": 35,
   "id": "f28547bc",
   "metadata": {},
   "outputs": [
    {
     "data": {
      "text/plain": [
       "<sqlite3.Cursor at 0x7f20e994dc70>"
      ]
     },
     "execution_count": 35,
     "metadata": {},
     "output_type": "execute_result"
    }
   ],
   "source": [
    "delete_sql = 'DELETE FROM person WHERE id = 100';\n",
    "cur.execute(delete_sql)"
   ]
  },
  {
   "cell_type": "code",
   "execution_count": 36,
   "id": "a51d580a",
   "metadata": {},
   "outputs": [
    {
     "name": "stdout",
     "output_type": "stream",
     "text": [
      "(1, 'changed_name', 10.5)\n",
      "(3, 'c_update', 3.14)\n"
     ]
    }
   ],
   "source": [
    "for row in cur.execute('SELECT * FROM person'):\n",
    "    print(row)"
   ]
  },
  {
   "cell_type": "code",
   "execution_count": 40,
   "id": "93e4c89e",
   "metadata": {},
   "outputs": [],
   "source": [
    "con.close()"
   ]
  },
  {
   "cell_type": "code",
   "execution_count": 39,
   "id": "90ae5809",
   "metadata": {},
   "outputs": [],
   "source": [
    "#cur.execute('SELECT * FROM person WHERE size > :size',{'size':10})"
   ]
  },
  {
   "cell_type": "code",
   "execution_count": null,
   "id": "37ff2dc1",
   "metadata": {},
   "outputs": [],
   "source": []
  },
  {
   "cell_type": "code",
   "execution_count": null,
   "id": "b0d8044e",
   "metadata": {},
   "outputs": [],
   "source": []
  },
  {
   "cell_type": "code",
   "execution_count": null,
   "id": "ef2cb8e3",
   "metadata": {},
   "outputs": [],
   "source": []
  },
  {
   "cell_type": "code",
   "execution_count": null,
   "id": "4f3e6b4e",
   "metadata": {},
   "outputs": [],
   "source": []
  }
 ],
 "metadata": {
  "kernelspec": {
   "display_name": "Python 3 (ipykernel)",
   "language": "python",
   "name": "python3"
  },
  "language_info": {
   "codemirror_mode": {
    "name": "ipython",
    "version": 3
   },
   "file_extension": ".py",
   "mimetype": "text/x-python",
   "name": "python",
   "nbconvert_exporter": "python",
   "pygments_lexer": "ipython3",
   "version": "3.8.10"
  }
 },
 "nbformat": 4,
 "nbformat_minor": 5
}

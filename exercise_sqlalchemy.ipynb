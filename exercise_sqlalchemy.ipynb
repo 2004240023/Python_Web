{
 "cells": [
  {
   "cell_type": "code",
   "execution_count": 67,
   "id": "4a224743",
   "metadata": {},
   "outputs": [],
   "source": [
    "from sqlalchemy import create_engine"
   ]
  },
  {
   "cell_type": "code",
   "execution_count": 68,
   "id": "afee250b",
   "metadata": {},
   "outputs": [],
   "source": [
    "from sqlalchemy.orm import Session"
   ]
  },
  {
   "cell_type": "code",
   "execution_count": 69,
   "id": "54403f8e",
   "metadata": {},
   "outputs": [],
   "source": [
    "from test_model import Human"
   ]
  },
  {
   "cell_type": "code",
   "execution_count": 70,
   "id": "017773db",
   "metadata": {},
   "outputs": [],
   "source": [
    "engine = create_engine('sqlite:///test_db', echo=True)"
   ]
  },
  {
   "cell_type": "code",
   "execution_count": 71,
   "id": "40c79b45",
   "metadata": {},
   "outputs": [],
   "source": [
    "session = Session(engine)"
   ]
  },
  {
   "cell_type": "code",
   "execution_count": 72,
   "id": "ea22f0e6",
   "metadata": {},
   "outputs": [
    {
     "name": "stdout",
     "output_type": "stream",
     "text": [
      "2022-06-25 17:42:32,222 INFO sqlalchemy.engine.Engine BEGIN (implicit)\n",
      "2022-06-25 17:42:32,223 INFO sqlalchemy.engine.Engine SELECT human.id AS human_id, human.name AS human_name, human.height AS human_height, human.weight AS human_weight \n",
      "FROM human\n",
      "2022-06-25 17:42:32,225 INFO sqlalchemy.engine.Engine [generated in 0.00144s] ()\n"
     ]
    }
   ],
   "source": [
    "humans = session.query(Human).all()"
   ]
  },
  {
   "cell_type": "code",
   "execution_count": 73,
   "id": "8026f60d",
   "metadata": {},
   "outputs": [
    {
     "name": "stdout",
     "output_type": "stream",
     "text": [
      "id:1 name:スザク height:176.5 weight:60.4\n",
      "id:2 name:ルルーシュ height:178.5 weight:65.4\n",
      "id:3 name:CC height:150.5 weight:35.4\n",
      "id:11 name:a height:11.11 weight:11.11\n",
      "id:12 name:b height:12.12 weight:12.12\n",
      "id:13 name:c height:13.13 weight:13.13\n"
     ]
    }
   ],
   "source": [
    "for human in humans:\n",
    "    print(f'id:{human.id} name:{human.name} height:{human.height} weight:{human.weight}')"
   ]
  },
  {
   "cell_type": "code",
   "execution_count": 26,
   "id": "6a953bee",
   "metadata": {},
   "outputs": [],
   "source": [
    "new_human = Human(id=4, name='カレン', height = 175.1, weight = 50)"
   ]
  },
  {
   "cell_type": "code",
   "execution_count": 27,
   "id": "ba2c9559",
   "metadata": {},
   "outputs": [],
   "source": [
    "session.add(new_human)"
   ]
  },
  {
   "cell_type": "code",
   "execution_count": 32,
   "id": "da7e83e6",
   "metadata": {},
   "outputs": [
    {
     "name": "stdout",
     "output_type": "stream",
     "text": [
      "2022-06-25 15:53:10,075 INFO sqlalchemy.engine.Engine COMMIT\n"
     ]
    }
   ],
   "source": [
    "session.commit()"
   ]
  },
  {
   "cell_type": "code",
   "execution_count": 34,
   "id": "c0d2677c",
   "metadata": {},
   "outputs": [
    {
     "name": "stdout",
     "output_type": "stream",
     "text": [
      "2022-06-25 15:53:28,330 INFO sqlalchemy.engine.Engine SELECT human.id AS human_id, human.name AS human_name, human.height AS human_height, human.weight AS human_weight \n",
      "FROM human\n",
      "2022-06-25 15:53:28,332 INFO sqlalchemy.engine.Engine [cached since 541.5s ago] ()\n"
     ]
    }
   ],
   "source": [
    "humans = session.query(Human).all()"
   ]
  },
  {
   "cell_type": "code",
   "execution_count": 35,
   "id": "f1a6f29e",
   "metadata": {},
   "outputs": [
    {
     "name": "stdout",
     "output_type": "stream",
     "text": [
      "id:1 name:スザク height:176.5 weight:60.4\n",
      "id:2 name:ルルーシュ height:178.5 weight:65.4\n",
      "id:3 name:CC height:150.5 weight:35.4\n",
      "id:4 name:カレン height:175.1 weight:50.0\n"
     ]
    }
   ],
   "source": [
    "for human in humans:\n",
    "    print(f'id:{human.id} name:{human.name} height:{human.height} weight:{human.weight}')"
   ]
  },
  {
   "cell_type": "code",
   "execution_count": 37,
   "id": "671b1165",
   "metadata": {},
   "outputs": [
    {
     "name": "stdout",
     "output_type": "stream",
     "text": [
      "2022-06-25 15:54:24,027 INFO sqlalchemy.engine.Engine SELECT human.id AS human_id, human.name AS human_name, human.height AS human_height, human.weight AS human_weight \n",
      "FROM human \n",
      "WHERE human.id = ?\n",
      " LIMIT ? OFFSET ?\n",
      "2022-06-25 15:54:24,029 INFO sqlalchemy.engine.Engine [generated in 0.00183s] (4, 1, 0)\n"
     ]
    }
   ],
   "source": [
    "human4 = session.query(Human).filter(Human.id==4).first()"
   ]
  },
  {
   "cell_type": "code",
   "execution_count": 38,
   "id": "c0edf86c",
   "metadata": {},
   "outputs": [],
   "source": [
    "human4.weight = 50.5"
   ]
  },
  {
   "cell_type": "code",
   "execution_count": 39,
   "id": "a6428ebe",
   "metadata": {},
   "outputs": [
    {
     "name": "stdout",
     "output_type": "stream",
     "text": [
      "2022-06-25 15:55:15,163 INFO sqlalchemy.engine.Engine UPDATE human SET weight=? WHERE human.id = ?\n",
      "2022-06-25 15:55:15,165 INFO sqlalchemy.engine.Engine [generated in 0.00204s] (50.5, 4)\n",
      "2022-06-25 15:55:15,166 INFO sqlalchemy.engine.Engine COMMIT\n"
     ]
    }
   ],
   "source": [
    "session.commit()"
   ]
  },
  {
   "cell_type": "code",
   "execution_count": 40,
   "id": "81a7e07b",
   "metadata": {},
   "outputs": [
    {
     "name": "stdout",
     "output_type": "stream",
     "text": [
      "2022-06-25 15:56:24,844 INFO sqlalchemy.engine.Engine BEGIN (implicit)\n",
      "2022-06-25 15:56:24,845 INFO sqlalchemy.engine.Engine SELECT human.id AS human_id, human.name AS human_name, human.height AS human_height, human.weight AS human_weight \n",
      "FROM human\n",
      "2022-06-25 15:56:24,845 INFO sqlalchemy.engine.Engine [cached since 718.1s ago] ()\n"
     ]
    }
   ],
   "source": [
    "humans = session.query(Human).all()"
   ]
  },
  {
   "cell_type": "code",
   "execution_count": 41,
   "id": "0fba97a6",
   "metadata": {},
   "outputs": [
    {
     "name": "stdout",
     "output_type": "stream",
     "text": [
      "id:1 name:スザク height:176.5 weight:60.4\n",
      "id:2 name:ルルーシュ height:178.5 weight:65.4\n",
      "id:3 name:CC height:150.5 weight:35.4\n",
      "id:4 name:カレン height:175.1 weight:50.5\n"
     ]
    }
   ],
   "source": [
    "for human in humans:\n",
    "    print(f'id:{human.id} name:{human.name} height:{human.height} weight:{human.weight}')"
   ]
  },
  {
   "cell_type": "code",
   "execution_count": 60,
   "id": "664ec41c",
   "metadata": {},
   "outputs": [
    {
     "name": "stdout",
     "output_type": "stream",
     "text": [
      "2022-06-25 16:04:38,028 INFO sqlalchemy.engine.Engine DELETE FROM human WHERE human.id = ?\n",
      "2022-06-25 16:04:38,029 INFO sqlalchemy.engine.Engine [cached since 68.37s ago] (4,)\n"
     ]
    },
    {
     "data": {
      "text/plain": [
       "1"
      ]
     },
     "execution_count": 60,
     "metadata": {},
     "output_type": "execute_result"
    }
   ],
   "source": [
    "session.query(Human).filter(Human.id==4).delete()"
   ]
  },
  {
   "cell_type": "code",
   "execution_count": 61,
   "id": "14af3c9e",
   "metadata": {},
   "outputs": [
    {
     "name": "stdout",
     "output_type": "stream",
     "text": [
      "2022-06-25 16:04:38,455 INFO sqlalchemy.engine.Engine COMMIT\n"
     ]
    }
   ],
   "source": [
    "session.commit()"
   ]
  },
  {
   "cell_type": "code",
   "execution_count": 62,
   "id": "6e325ca3",
   "metadata": {},
   "outputs": [
    {
     "name": "stdout",
     "output_type": "stream",
     "text": [
      "2022-06-25 16:04:38,682 INFO sqlalchemy.engine.Engine BEGIN (implicit)\n",
      "2022-06-25 16:04:38,683 INFO sqlalchemy.engine.Engine SELECT human.id AS human_id, human.name AS human_name, human.height AS human_height, human.weight AS human_weight \n",
      "FROM human\n",
      "2022-06-25 16:04:38,684 INFO sqlalchemy.engine.Engine [cached since 1212s ago] ()\n"
     ]
    }
   ],
   "source": [
    "humans = session.query(Human).all()"
   ]
  },
  {
   "cell_type": "code",
   "execution_count": 63,
   "id": "f44e881d",
   "metadata": {},
   "outputs": [
    {
     "name": "stdout",
     "output_type": "stream",
     "text": [
      "id:1 name:スザク height:176.5 weight:60.4\n",
      "id:2 name:ルルーシュ height:178.5 weight:65.4\n",
      "id:3 name:CC height:150.5 weight:35.4\n"
     ]
    }
   ],
   "source": [
    "for human in humans:\n",
    "    print(f'id:{human.id} name:{human.name} height:{human.height} weight:{human.weight}')"
   ]
  },
  {
   "cell_type": "code",
   "execution_count": 64,
   "id": "449a7399",
   "metadata": {},
   "outputs": [
    {
     "name": "stdout",
     "output_type": "stream",
     "text": [
      "2022-06-25 16:04:43,354 INFO sqlalchemy.engine.Engine ROLLBACK\n"
     ]
    }
   ],
   "source": [
    "session.close()"
   ]
  },
  {
   "cell_type": "code",
   "execution_count": null,
   "id": "8436ac73",
   "metadata": {},
   "outputs": [],
   "source": []
  }
 ],
 "metadata": {
  "kernelspec": {
   "display_name": "Python 3 (ipykernel)",
   "language": "python",
   "name": "python3"
  },
  "language_info": {
   "codemirror_mode": {
    "name": "ipython",
    "version": 3
   },
   "file_extension": ".py",
   "mimetype": "text/x-python",
   "name": "python",
   "nbconvert_exporter": "python",
   "pygments_lexer": "ipython3",
   "version": "3.8.10"
  }
 },
 "nbformat": 4,
 "nbformat_minor": 5
}
